{
  "nbformat": 4,
  "nbformat_minor": 0,
  "metadata": {
    "colab": {
      "name": "SentimentMyProject.ipynb",
      "provenance": [],
      "authorship_tag": "ABX9TyOeOd/348gZ0000eHvJPjT3",
      "include_colab_link": true
    },
    "kernelspec": {
      "name": "python3",
      "display_name": "Python 3"
    }
  },
  "cells": [
    {
      "cell_type": "markdown",
      "metadata": {
        "id": "view-in-github",
        "colab_type": "text"
      },
      "source": [
        "<a href=\"https://colab.research.google.com/github/programmer1062/SentimentalAnalysisForNarendraModi/blob/master/SentimentMyProject.ipynb\" target=\"_parent\"><img src=\"https://colab.research.google.com/assets/colab-badge.svg\" alt=\"Open In Colab\"/></a>"
      ]
    },
    {
      "cell_type": "code",
      "metadata": {
        "id": "MIFzg5P86r-z",
        "colab_type": "code",
        "colab": {}
      },
      "source": [
        "#this this sentiment analysis "
      ],
      "execution_count": null,
      "outputs": []
    },
    {
      "cell_type": "code",
      "metadata": {
        "id": "p4qVivhv68OR",
        "colab_type": "code",
        "colab": {}
      },
      "source": [
        "import tweepy \n",
        "from textblob import TextBlob\n",
        "from wordcloud import WordCloud \n",
        "import pandas as pd\n",
        "import numpy as np\n",
        "import re\n",
        "import matplotlib.pyplot as plt\n",
        "plt.style.use('fivethirtyeight')"
      ],
      "execution_count": null,
      "outputs": []
    },
    {
      "cell_type": "code",
      "metadata": {
        "id": "2FerkoOu7cZe",
        "colab_type": "code",
        "colab": {}
      },
      "source": [
        "consumerkey='2vZlMRJQ4DA7e8o9hJwJxT4iO'\n",
        "consumersecret='0EphCmY2yMtPxSmD2EG4aozzkdHFvNZH9AFy0nIHKq5buo5mrg'\n",
        "accesstoken='717335454442369024-dGyW1Xo5uZyypfsXZyClGJ4cWn53stQ'\n",
        "accesstokensecret='QETZNOftwgbFgXj05vbBNXmMxCI8tVtdhTtrkJrKoaqxa'"
      ],
      "execution_count": null,
      "outputs": []
    },
    {
      "cell_type": "code",
      "metadata": {
        "id": "w5xbyRRWKCXj",
        "colab_type": "code",
        "colab": {}
      },
      "source": [
        "auth=tweepy.OAuthHandler(consumerkey,consumersecret)\n",
        "auth.set_access_token(accesstoken,accesstokensecret)\n",
        "api=tweepy.API(auth,wait_on_rate_limit=True)"
      ],
      "execution_count": null,
      "outputs": []
    },
    {
      "cell_type": "code",
      "metadata": {
        "id": "0y78DpKcKjrm",
        "colab_type": "code",
        "colab": {
          "base_uri": "https://localhost:8080/",
          "height": 368
        },
        "outputId": "f5427a37-e256-45b4-97c3-c136878ae0d4"
      },
      "source": [
        "# posts=api.user_timeline(screen_name='NarendraModi', count=100,lang='en',tweet_mode='extended')\n",
        "searchTerms='NarendraModi'\n",
        "noOfTweet=int(input('enter the number of tweet'))\n",
        "posts=api.search(q=searchTerms,count=noOfTweet,lang='en')\n",
        "print('show 5 recent tweet: \\n')\n",
        "i=1\n",
        "for tweet in posts[0:5]:\n",
        "  # print(str(i) + ') ' +tweet.full_text + '\\n')\n",
        "  print(str(i) + ') ' +tweet.text+ '\\n')\n",
        "  i+=1"
      ],
      "execution_count": null,
      "outputs": [
        {
          "output_type": "stream",
          "text": [
            "enter the number of tweet500\n",
            "show 5 recent tweet: \n",
            "\n",
            "1) RT @Rameswar_Teli: Prime Minister Addresses the virtual Global Vaccine Summit 2020  https://t.co/fagViGqoL3\n",
            "\n",
            "2) RT @PrinceArihan: India needs to be prepared. The anarchists are planning trouble. Their in-roads in colleges will be utilised to the maxim…\n",
            "\n",
            "3) What are you say about OFB Corporate..\n",
            "1 yas \n",
            "2 No \n",
            "Comments fast \n",
            "@OFB_India @PMOIndia @DefProdnIndia @dgof_board… https://t.co/ER8A2bqzSZ\n",
            "\n",
            "4) RT @Itsmearjun6: #623rd_GodKabir_PrakatDiwas\n",
            "\n",
            "God On Earth\n",
            "\n",
            "when Lord Kabir was 25 days in age while performing his divine play he told tha…\n",
            "\n",
            "5) @socialepfo @PMOIndia @LabourMinistry @narendramodi Still waiting for response, didn't get any positive update,we n… https://t.co/tp6FIt5GTQ\n",
            "\n"
          ],
          "name": "stdout"
        }
      ]
    },
    {
      "cell_type": "code",
      "metadata": {
        "id": "0ltQqpF9NAlb",
        "colab_type": "code",
        "colab": {
          "base_uri": "https://localhost:8080/",
          "height": 196
        },
        "outputId": "8b27194a-cbe5-42d9-bdec-356dec9d3a89"
      },
      "source": [
        "# df=pd.DataFrame([tweet.full_text for tweet in posts],columns=['Tweets'])\n",
        "df=pd.DataFrame([tweet.text for tweet in posts],columns=['Tweets'])\n",
        "df.head()"
      ],
      "execution_count": null,
      "outputs": [
        {
          "output_type": "execute_result",
          "data": {
            "text/html": [
              "<div>\n",
              "<style scoped>\n",
              "    .dataframe tbody tr th:only-of-type {\n",
              "        vertical-align: middle;\n",
              "    }\n",
              "\n",
              "    .dataframe tbody tr th {\n",
              "        vertical-align: top;\n",
              "    }\n",
              "\n",
              "    .dataframe thead th {\n",
              "        text-align: right;\n",
              "    }\n",
              "</style>\n",
              "<table border=\"1\" class=\"dataframe\">\n",
              "  <thead>\n",
              "    <tr style=\"text-align: right;\">\n",
              "      <th></th>\n",
              "      <th>Tweets</th>\n",
              "    </tr>\n",
              "  </thead>\n",
              "  <tbody>\n",
              "    <tr>\n",
              "      <th>0</th>\n",
              "      <td>RT @Rameswar_Teli: Prime Minister Addresses th...</td>\n",
              "    </tr>\n",
              "    <tr>\n",
              "      <th>1</th>\n",
              "      <td>RT @PrinceArihan: India needs to be prepared. ...</td>\n",
              "    </tr>\n",
              "    <tr>\n",
              "      <th>2</th>\n",
              "      <td>What are you say about OFB Corporate..\\n1 yas ...</td>\n",
              "    </tr>\n",
              "    <tr>\n",
              "      <th>3</th>\n",
              "      <td>RT @Itsmearjun6: #623rd_GodKabir_PrakatDiwas\\n...</td>\n",
              "    </tr>\n",
              "    <tr>\n",
              "      <th>4</th>\n",
              "      <td>@socialepfo @PMOIndia @LabourMinistry @narendr...</td>\n",
              "    </tr>\n",
              "  </tbody>\n",
              "</table>\n",
              "</div>"
            ],
            "text/plain": [
              "                                              Tweets\n",
              "0  RT @Rameswar_Teli: Prime Minister Addresses th...\n",
              "1  RT @PrinceArihan: India needs to be prepared. ...\n",
              "2  What are you say about OFB Corporate..\\n1 yas ...\n",
              "3  RT @Itsmearjun6: #623rd_GodKabir_PrakatDiwas\\n...\n",
              "4  @socialepfo @PMOIndia @LabourMinistry @narendr..."
            ]
          },
          "metadata": {
            "tags": []
          },
          "execution_count": 5
        }
      ]
    },
    {
      "cell_type": "code",
      "metadata": {
        "id": "7O8Jy9HsNhGD",
        "colab_type": "code",
        "colab": {
          "base_uri": "https://localhost:8080/",
          "height": 404
        },
        "outputId": "a3d3e648-6a4e-439f-ea73-968fae0fa41f"
      },
      "source": [
        "def cleanText(text):\n",
        "  text=re.sub(r'@[A-Za-z0-9]+', '', text)\n",
        "  text=re.sub(r'#','',text)\n",
        "  text=re.sub(r'RT[\\s]+','',text)\n",
        "  text=re.sub(r'https?:\\/\\/\\S+','',text)\n",
        "  text=re.sub(r'[:_]','',text)\n",
        "\n",
        "  return text\n",
        "\n",
        "df['Tweets']=df['Tweets'].apply(cleanText)\n",
        "df"
      ],
      "execution_count": null,
      "outputs": [
        {
          "output_type": "execute_result",
          "data": {
            "text/html": [
              "<div>\n",
              "<style scoped>\n",
              "    .dataframe tbody tr th:only-of-type {\n",
              "        vertical-align: middle;\n",
              "    }\n",
              "\n",
              "    .dataframe tbody tr th {\n",
              "        vertical-align: top;\n",
              "    }\n",
              "\n",
              "    .dataframe thead th {\n",
              "        text-align: right;\n",
              "    }\n",
              "</style>\n",
              "<table border=\"1\" class=\"dataframe\">\n",
              "  <thead>\n",
              "    <tr style=\"text-align: right;\">\n",
              "      <th></th>\n",
              "      <th>Tweets</th>\n",
              "    </tr>\n",
              "  </thead>\n",
              "  <tbody>\n",
              "    <tr>\n",
              "      <th>0</th>\n",
              "      <td>Teli Prime Minister Addresses the virtual Glob...</td>\n",
              "    </tr>\n",
              "    <tr>\n",
              "      <th>1</th>\n",
              "      <td>India needs to be prepared. The anarchists ar...</td>\n",
              "    </tr>\n",
              "    <tr>\n",
              "      <th>2</th>\n",
              "      <td>What are you say about OFB Corporate..\\n1 yas ...</td>\n",
              "    </tr>\n",
              "    <tr>\n",
              "      <th>3</th>\n",
              "      <td>623rdGodKabirPrakatDiwas\\n\\nGod On Earth\\n\\nw...</td>\n",
              "    </tr>\n",
              "    <tr>\n",
              "      <th>4</th>\n",
              "      <td>Still waiting for response, didn't get any...</td>\n",
              "    </tr>\n",
              "    <tr>\n",
              "      <th>...</th>\n",
              "      <td>...</td>\n",
              "    </tr>\n",
              "    <tr>\n",
              "      <th>95</th>\n",
              "      <td>when lockdown imposed nature Filltered, ozone ...</td>\n",
              "    </tr>\n",
              "    <tr>\n",
              "      <th>96</th>\n",
              "      <td>StopMergingofGuardsCadre\\n\\n\\n\\n\\n\\n \\nGuards…</td>\n",
              "    </tr>\n",
              "    <tr>\n",
              "      <th>97</th>\n",
              "      <td>With Great Government policy India investing ...</td>\n",
              "    </tr>\n",
              "    <tr>\n",
              "      <th>98</th>\n",
              "      <td>Addressed GVS2020. This is a commendable effo...</td>\n",
              "    </tr>\n",
              "    <tr>\n",
              "      <th>99</th>\n",
              "      <td>StopMergingofGuardsCadre\\n\\n\\n\\n\\n\\n\\n\\nGuards…</td>\n",
              "    </tr>\n",
              "  </tbody>\n",
              "</table>\n",
              "<p>100 rows × 1 columns</p>\n",
              "</div>"
            ],
            "text/plain": [
              "                                               Tweets\n",
              "0   Teli Prime Minister Addresses the virtual Glob...\n",
              "1    India needs to be prepared. The anarchists ar...\n",
              "2   What are you say about OFB Corporate..\\n1 yas ...\n",
              "3    623rdGodKabirPrakatDiwas\\n\\nGod On Earth\\n\\nw...\n",
              "4       Still waiting for response, didn't get any...\n",
              "..                                                ...\n",
              "95  when lockdown imposed nature Filltered, ozone ...\n",
              "96     StopMergingofGuardsCadre\\n\\n\\n\\n\\n\\n \\nGuards…\n",
              "97   With Great Government policy India investing ...\n",
              "98   Addressed GVS2020. This is a commendable effo...\n",
              "99    StopMergingofGuardsCadre\\n\\n\\n\\n\\n\\n\\n\\nGuards…\n",
              "\n",
              "[100 rows x 1 columns]"
            ]
          },
          "metadata": {
            "tags": []
          },
          "execution_count": 7
        }
      ]
    },
    {
      "cell_type": "code",
      "metadata": {
        "id": "D6rUobMtPp2l",
        "colab_type": "code",
        "colab": {
          "base_uri": "https://localhost:8080/",
          "height": 345
        },
        "outputId": "51cee75a-45ec-4e76-e215-48a266d6e2f4"
      },
      "source": [
        "def getSubjectivity(text):\n",
        "  return TextBlob(text).sentiment.subjectivity\n",
        "\n",
        "def getPolarity(text):\n",
        "  return TextBlob(text).sentiment.polarity\n",
        "\n",
        "df['Subjectivity']=df['Tweets'].apply(getSubjectivity)\n",
        "df['Polarity']=df['Tweets'].apply(getPolarity)\n",
        "\n",
        "df[0:10]"
      ],
      "execution_count": null,
      "outputs": [
        {
          "output_type": "execute_result",
          "data": {
            "text/html": [
              "<div>\n",
              "<style scoped>\n",
              "    .dataframe tbody tr th:only-of-type {\n",
              "        vertical-align: middle;\n",
              "    }\n",
              "\n",
              "    .dataframe tbody tr th {\n",
              "        vertical-align: top;\n",
              "    }\n",
              "\n",
              "    .dataframe thead th {\n",
              "        text-align: right;\n",
              "    }\n",
              "</style>\n",
              "<table border=\"1\" class=\"dataframe\">\n",
              "  <thead>\n",
              "    <tr style=\"text-align: right;\">\n",
              "      <th></th>\n",
              "      <th>Tweets</th>\n",
              "      <th>Subjectivity</th>\n",
              "      <th>Polarity</th>\n",
              "    </tr>\n",
              "  </thead>\n",
              "  <tbody>\n",
              "    <tr>\n",
              "      <th>0</th>\n",
              "      <td>Teli Prime Minister Addresses the virtual Glob...</td>\n",
              "      <td>0.000000</td>\n",
              "      <td>0.000000</td>\n",
              "    </tr>\n",
              "    <tr>\n",
              "      <th>1</th>\n",
              "      <td>India needs to be prepared. The anarchists ar...</td>\n",
              "      <td>0.200000</td>\n",
              "      <td>-0.200000</td>\n",
              "    </tr>\n",
              "    <tr>\n",
              "      <th>2</th>\n",
              "      <td>What are you say about OFB Corporate..\\n1 yas ...</td>\n",
              "      <td>0.300000</td>\n",
              "      <td>0.100000</td>\n",
              "    </tr>\n",
              "    <tr>\n",
              "      <th>3</th>\n",
              "      <td>623rdGodKabirPrakatDiwas\\n\\nGod On Earth\\n\\nw...</td>\n",
              "      <td>0.000000</td>\n",
              "      <td>0.000000</td>\n",
              "    </tr>\n",
              "    <tr>\n",
              "      <th>4</th>\n",
              "      <td>Still waiting for response, didn't get any...</td>\n",
              "      <td>0.545455</td>\n",
              "      <td>0.227273</td>\n",
              "    </tr>\n",
              "    <tr>\n",
              "      <th>5</th>\n",
              "      <td>Amzath Ali and Thamim Shaikh were arrested fo...</td>\n",
              "      <td>0.000000</td>\n",
              "      <td>0.000000</td>\n",
              "    </tr>\n",
              "    <tr>\n",
              "      <th>6</th>\n",
              "      <td>Amzath Ali and Thamim Shaikh were arrested fo...</td>\n",
              "      <td>0.000000</td>\n",
              "      <td>0.000000</td>\n",
              "    </tr>\n",
              "    <tr>\n",
              "      <th>7</th>\n",
              "      <td>octothorpe    …</td>\n",
              "      <td>0.000000</td>\n",
              "      <td>0.000000</td>\n",
              "    </tr>\n",
              "    <tr>\n",
              "      <th>8</th>\n",
              "      <td>StopMergingofGuardsCadre\\n\\n\\n\\n\\n\\n\\n\\nGuard...</td>\n",
              "      <td>0.000000</td>\n",
              "      <td>0.000000</td>\n",
              "    </tr>\n",
              "    <tr>\n",
              "      <th>9</th>\n",
              "      <td>623rdGodKabirPrakatDiwas \\nWho is the father ...</td>\n",
              "      <td>1.000000</td>\n",
              "      <td>0.500000</td>\n",
              "    </tr>\n",
              "  </tbody>\n",
              "</table>\n",
              "</div>"
            ],
            "text/plain": [
              "                                              Tweets  Subjectivity  Polarity\n",
              "0  Teli Prime Minister Addresses the virtual Glob...      0.000000  0.000000\n",
              "1   India needs to be prepared. The anarchists ar...      0.200000 -0.200000\n",
              "2  What are you say about OFB Corporate..\\n1 yas ...      0.300000  0.100000\n",
              "3   623rdGodKabirPrakatDiwas\\n\\nGod On Earth\\n\\nw...      0.000000  0.000000\n",
              "4      Still waiting for response, didn't get any...      0.545455  0.227273\n",
              "5   Amzath Ali and Thamim Shaikh were arrested fo...      0.000000  0.000000\n",
              "6   Amzath Ali and Thamim Shaikh were arrested fo...      0.000000  0.000000\n",
              "7                                   octothorpe    …       0.000000  0.000000\n",
              "8   StopMergingofGuardsCadre\\n\\n\\n\\n\\n\\n\\n\\nGuard...      0.000000  0.000000\n",
              "9   623rdGodKabirPrakatDiwas \\nWho is the father ...      1.000000  0.500000"
            ]
          },
          "metadata": {
            "tags": []
          },
          "execution_count": 8
        }
      ]
    },
    {
      "cell_type": "code",
      "metadata": {
        "id": "GMAWFMYmVPNL",
        "colab_type": "code",
        "colab": {
          "base_uri": "https://localhost:8080/",
          "height": 248
        },
        "outputId": "316763ca-e414-48e4-ce17-a868d1a49ad4"
      },
      "source": [
        "allWords=' '.join([twts for twts in df['Tweets']])\n",
        "wordCloud= WordCloud(width=500,height=300,random_state=21,max_font_size=119).generate(allWords)\n",
        "\n",
        "plt.imshow(wordCloud,interpolation='bilinear')\n",
        "plt.axis('off')\n",
        "plt.show()"
      ],
      "execution_count": null,
      "outputs": [
        {
          "output_type": "display_data",
          "data": {
            "image/png": "[encoded data removed]",
            "text/plain": [
              "<Figure size 432x288 with 1 Axes>"
            ]
          },
          "metadata": {
            "tags": [],
            "needs_background": "light"
          }
        }
      ]
    },
    {
      "cell_type": "code",
      "metadata": {
        "id": "SUoaLPrdWUex",
        "colab_type": "code",
        "colab": {
          "base_uri": "https://localhost:8080/",
          "height": 404
        },
        "outputId": "42677558-7cee-445f-d825-0a0adc5367bf"
      },
      "source": [
        "def getAnalysis(score):\n",
        "  if score<0:\n",
        "    return 'Negative'\n",
        "  elif score==0:\n",
        "    return 'Neutral'\n",
        "  else:\n",
        "    return 'Positive'\n",
        "\n",
        "df['Analysis']=df['Polarity'].apply(getAnalysis)\n",
        "\n",
        "#show the data frame\n",
        "df"
      ],
      "execution_count": null,
      "outputs": [
        {
          "output_type": "execute_result",
          "data": {
            "text/html": [
              "<div>\n",
              "<style scoped>\n",
              "    .dataframe tbody tr th:only-of-type {\n",
              "        vertical-align: middle;\n",
              "    }\n",
              "\n",
              "    .dataframe tbody tr th {\n",
              "        vertical-align: top;\n",
              "    }\n",
              "\n",
              "    .dataframe thead th {\n",
              "        text-align: right;\n",
              "    }\n",
              "</style>\n",
              "<table border=\"1\" class=\"dataframe\">\n",
              "  <thead>\n",
              "    <tr style=\"text-align: right;\">\n",
              "      <th></th>\n",
              "      <th>Tweets</th>\n",
              "      <th>Subjectivity</th>\n",
              "      <th>Polarity</th>\n",
              "      <th>Analysis</th>\n",
              "    </tr>\n",
              "  </thead>\n",
              "  <tbody>\n",
              "    <tr>\n",
              "      <th>0</th>\n",
              "      <td>Teli Prime Minister Addresses the virtual Glob...</td>\n",
              "      <td>0.000000</td>\n",
              "      <td>0.000000</td>\n",
              "      <td>Neutral</td>\n",
              "    </tr>\n",
              "    <tr>\n",
              "      <th>1</th>\n",
              "      <td>India needs to be prepared. The anarchists ar...</td>\n",
              "      <td>0.200000</td>\n",
              "      <td>-0.200000</td>\n",
              "      <td>Negative</td>\n",
              "    </tr>\n",
              "    <tr>\n",
              "      <th>2</th>\n",
              "      <td>What are you say about OFB Corporate..\\n1 yas ...</td>\n",
              "      <td>0.300000</td>\n",
              "      <td>0.100000</td>\n",
              "      <td>Positive</td>\n",
              "    </tr>\n",
              "    <tr>\n",
              "      <th>3</th>\n",
              "      <td>623rdGodKabirPrakatDiwas\\n\\nGod On Earth\\n\\nw...</td>\n",
              "      <td>0.000000</td>\n",
              "      <td>0.000000</td>\n",
              "      <td>Neutral</td>\n",
              "    </tr>\n",
              "    <tr>\n",
              "      <th>4</th>\n",
              "      <td>Still waiting for response, didn't get any...</td>\n",
              "      <td>0.545455</td>\n",
              "      <td>0.227273</td>\n",
              "      <td>Positive</td>\n",
              "    </tr>\n",
              "    <tr>\n",
              "      <th>...</th>\n",
              "      <td>...</td>\n",
              "      <td>...</td>\n",
              "      <td>...</td>\n",
              "      <td>...</td>\n",
              "    </tr>\n",
              "    <tr>\n",
              "      <th>95</th>\n",
              "      <td>when lockdown imposed nature Filltered, ozone ...</td>\n",
              "      <td>0.000000</td>\n",
              "      <td>0.000000</td>\n",
              "      <td>Neutral</td>\n",
              "    </tr>\n",
              "    <tr>\n",
              "      <th>96</th>\n",
              "      <td>StopMergingofGuardsCadre\\n\\n\\n\\n\\n\\n \\nGuards…</td>\n",
              "      <td>0.000000</td>\n",
              "      <td>0.000000</td>\n",
              "      <td>Neutral</td>\n",
              "    </tr>\n",
              "    <tr>\n",
              "      <th>97</th>\n",
              "      <td>With Great Government policy India investing ...</td>\n",
              "      <td>0.750000</td>\n",
              "      <td>0.800000</td>\n",
              "      <td>Positive</td>\n",
              "    </tr>\n",
              "    <tr>\n",
              "      <th>98</th>\n",
              "      <td>Addressed GVS2020. This is a commendable effo...</td>\n",
              "      <td>0.500000</td>\n",
              "      <td>0.000000</td>\n",
              "      <td>Neutral</td>\n",
              "    </tr>\n",
              "    <tr>\n",
              "      <th>99</th>\n",
              "      <td>StopMergingofGuardsCadre\\n\\n\\n\\n\\n\\n\\n\\nGuards…</td>\n",
              "      <td>0.000000</td>\n",
              "      <td>0.000000</td>\n",
              "      <td>Neutral</td>\n",
              "    </tr>\n",
              "  </tbody>\n",
              "</table>\n",
              "<p>100 rows × 4 columns</p>\n",
              "</div>"
            ],
            "text/plain": [
              "                                               Tweets  ...  Analysis\n",
              "0   Teli Prime Minister Addresses the virtual Glob...  ...   Neutral\n",
              "1    India needs to be prepared. The anarchists ar...  ...  Negative\n",
              "2   What are you say about OFB Corporate..\\n1 yas ...  ...  Positive\n",
              "3    623rdGodKabirPrakatDiwas\\n\\nGod On Earth\\n\\nw...  ...   Neutral\n",
              "4       Still waiting for response, didn't get any...  ...  Positive\n",
              "..                                                ...  ...       ...\n",
              "95  when lockdown imposed nature Filltered, ozone ...  ...   Neutral\n",
              "96     StopMergingofGuardsCadre\\n\\n\\n\\n\\n\\n \\nGuards…  ...   Neutral\n",
              "97   With Great Government policy India investing ...  ...  Positive\n",
              "98   Addressed GVS2020. This is a commendable effo...  ...   Neutral\n",
              "99    StopMergingofGuardsCadre\\n\\n\\n\\n\\n\\n\\n\\nGuards…  ...   Neutral\n",
              "\n",
              "[100 rows x 4 columns]"
            ]
          },
          "metadata": {
            "tags": []
          },
          "execution_count": 10
        }
      ]
    },
    {
      "cell_type": "code",
      "metadata": {
        "id": "KG2oD4rsXCOs",
        "colab_type": "code",
        "colab": {
          "base_uri": "https://localhost:8080/",
          "height": 1000
        },
        "outputId": "94af83f8-5049-4607-f9e5-f152d53f79cf"
      },
      "source": [
        "#print all of the positive tweets\n",
        "j=1\n",
        "sortedDF=df.sort_values(by=['Polarity'])\n",
        "for i in range(0,sortedDF.shape[0]):\n",
        "  if sortedDF['Analysis'][i]=='Positive':\n",
        "    print(str(j)+') '+sortedDF['Tweets'][i])\n",
        "    print()\n",
        "    j+=1"
      ],
      "execution_count": null,
      "outputs": [
        {
          "output_type": "stream",
          "text": [
            "1) What are you say about OFB Corporate..\n",
            "1 yas \n",
            "2 No \n",
            "Comments fast \n",
            "India   board… \n",
            "\n",
            "2)     Still waiting for response, didn't get any positive update,we n… \n",
            "\n",
            "3)  623rdGodKabirPrakatDiwas \n",
            "Who is the father of Bramha, who is mother of vishnu and who the grand father of shiva, al…\n",
            "\n",
            "4)  Protecting and safeguarding the lives of elephants has always been a top priority for Indian Railways 🐘\n",
            "\n",
            "Under PM …\n",
            "\n",
            "5)     \n",
            "sir, i kindly request to you general promotion to all… \n",
            "\n",
            "6)  The most shocking aspect of the Chinese intrusions is this Many Indians clearly love  more than they love the…\n",
            "\n",
            "7)  You see, it's perfectly natural to respect and revere  ji and not to like  at all.\n",
            "\n",
            "They are n…\n",
            "\n",
            "8)    Sure\n",
            "\n",
            "9)    1 jat   Good morning dost kaise ho\n",
            "\n",
            "10) Cyborg I feel blessed to witness your new look pm  ji and that inspire me to make this Artwork.\n",
            "\n",
            "Can we get 1000 Rt o…\n",
            "\n",
            "11)  623rdGodKabirPrakatDiwas \n",
            "I am sure our Respected PM  and HM  might be curious to know the answers…\n",
            "\n",
            "12) Hi l, awaiting the your positive revert on same, it's been over 3 month  I awaitng my own refund.  \n",
            "\n",
            "13)  The guideline which was given by  regarding the promotion of students is not being followed by many NLUs alo…\n",
            "\n",
            "14)    Sir, I am sure the doctors that visit the jail's are capable enough to take care of her.\n",
            "\n",
            "S…\n",
            "\n",
            "15)   It's time to get together and fight together. Embrace and love from india\n",
            "\n",
            "16)  Student's are not testing kits, we want general promotion\n",
            "promoteallcollegestudents\n",
            "\n",
            "  …\n",
            "\n",
            "17) CORRECTLY said - answer this  if you're really Bharatey \n",
            "\n",
            "18)  Tesla took only two years. Factory in operation in China \n",
            "\n",
            "Can you imagine this in India with current laws. First fight fo…\n",
            "\n",
            "19)   Happy birthday sir\n",
            "\n",
            "20)     But the lock down has been confusing madam most countries who a… \n",
            "\n",
            "21)  Current situation is hazardous keep in mind the exms!  Health is priority!  \n",
            "\n",
            "General Promotion with 75% is a viable a…\n",
            "\n",
            "22) promoteallcollegestudents\n",
            "Gives us general promotion. ..\n",
            "    india \n",
            "\n",
            "23)   Now few intelligent ppl will come...\n",
            "\n",
            "24)  Protecting and safeguarding the lives of elephants has always been a top priority for Indian Railways 🐘\n",
            "\n",
            "Under PM …\n",
            "\n",
            "25)  With Great Government policy India investing over $20 Billion on Solar Energy in 2018. But Coal remains India's largest…\n",
            "\n"
          ],
          "name": "stdout"
        }
      ]
    },
    {
      "cell_type": "code",
      "metadata": {
        "id": "QMjir21jYqr6",
        "colab_type": "code",
        "colab": {
          "base_uri": "https://localhost:8080/",
          "height": 485
        },
        "outputId": "bdb499eb-905f-4919-ac28-5f447d442736"
      },
      "source": [
        "#print all of the negative tweets\n",
        "j=1\n",
        "sortedDF=df.sort_values(by=['Polarity'],ascending='False')\n",
        "for i in range(0,sortedDF.shape[0]):\n",
        "  if sortedDF['Analysis'][i]=='Negative':\n",
        "    print(str(j)+') '+sortedDF['Tweets'][i])\n",
        "    print()\n",
        "    j+=1"
      ],
      "execution_count": null,
      "outputs": [
        {
          "output_type": "stream",
          "text": [
            "1)  India needs to be prepared. The anarchists are planning trouble. Their in-roads in colleges will be utilised to the maxim…\n",
            "\n",
            "2)  India needs to be prepared. The anarchists are planning trouble. Their in-roads in colleges will be utilised to the maxim…\n",
            "\n",
            "3)     Hiranandani      Due to SC…\n",
            "\n",
            "4)  Constitutionally and morally 100% accurate.\n",
            "\n",
            "Unfortunately, administratively, we as nation never kept up.\n",
            "\n",
            "A start has been…\n",
            "\n",
            "5)  JUSTICE DELAYED PURPOSELY IS DENIED WANTEDLY WHICH RESULT IN DEADLY COVID19 INTENSIVELY.ARE YOU AWARE… \n",
            "\n",
            "6)   Don't talk like stupid liberals  .\n",
            "\n",
            "7)  We are already in running category. The working condition of Goods Guard is very difficult and inhumane where no light, wat…\n",
            "\n",
            "8)  GM all I pray Maha Kalabhairav to bless all Tweeples with health wealth and mental peace. I pray for  ji …\n",
            "\n",
            "9)  . forced to restart HCQ trial after suspending it. Did Chinese interests pressure WHO to hurt Indian drug manufactu…\n",
            "\n",
            "10)  Why India with world's largest population couldn't produce one single software giant like  or  or  o…\n",
            "\n",
            "11)  we are requesting late fee waiver GST 3B, GSTR 1, Please help to small business \n",
            "\n",
            "GSTAmnesty   …\n",
            "\n"
          ],
          "name": "stdout"
        }
      ]
    },
    {
      "cell_type": "code",
      "metadata": {
        "id": "5UWTTcmYZuK3",
        "colab_type": "code",
        "colab": {
          "base_uri": "https://localhost:8080/",
          "height": 405
        },
        "outputId": "f606f518-ec83-41ff-8089-8554384939c2"
      },
      "source": [
        "#plot the polarity and subjectivity\n",
        "\n",
        "plt.figure(figsize=(8,6))\n",
        "for i in range(0,df.shape[0]):\n",
        "  plt.scatter(df['Polarity'][i],df['Subjectivity'][i],color='Blue')\n",
        "\n",
        "plt.title('Sentiment Analysis for Narendra Modi')\n",
        "plt.xlabel('Polarity')\n",
        "plt.ylabel('Subjectivity')\n",
        "plt.show()"
      ],
      "execution_count": null,
      "outputs": [
        {
          "output_type": "display_data",
          "data": {
            "image/png": "[encoded data removed]",
            "text/plain": [
              "<Figure size 576x432 with 1 Axes>"
            ]
          },
          "metadata": {
            "tags": [],
            "needs_background": "light"
          }
        }
      ]
    },
    {
      "cell_type": "code",
      "metadata": {
        "id": "ErOTMX6tbJdr",
        "colab_type": "code",
        "colab": {
          "base_uri": "https://localhost:8080/",
          "height": 33
        },
        "outputId": "9df2e81d-0710-472b-d892-add34f0c3df7"
      },
      "source": [
        "#get the % of positive tweet\n",
        "ptweets=df[df.Analysis=='Positive']\n",
        "ptweets=ptweets['Tweets']\n",
        "\n",
        "p=round((ptweets.shape[0]/df.shape[0])*100,1)\n",
        "p"
      ],
      "execution_count": null,
      "outputs": [
        {
          "output_type": "execute_result",
          "data": {
            "text/plain": [
              "25.0"
            ]
          },
          "metadata": {
            "tags": []
          },
          "execution_count": 14
        }
      ]
    },
    {
      "cell_type": "code",
      "metadata": {
        "id": "fDPdwapRcL9W",
        "colab_type": "code",
        "colab": {
          "base_uri": "https://localhost:8080/",
          "height": 33
        },
        "outputId": "6cd77498-960e-4939-f08d-a8698254d0ec"
      },
      "source": [
        "#get the % of negative tweet\n",
        "ntweets=df[df.Analysis=='Negative']\n",
        "ntweets=ntweets['Tweets']\n",
        "n=round((ntweets.shape[0]/df.shape[0])*100,1)\n",
        "n"
      ],
      "execution_count": null,
      "outputs": [
        {
          "output_type": "execute_result",
          "data": {
            "text/plain": [
              "11.0"
            ]
          },
          "metadata": {
            "tags": []
          },
          "execution_count": 15
        }
      ]
    },
    {
      "cell_type": "code",
      "metadata": {
        "id": "Rq4S-VbCcqEd",
        "colab_type": "code",
        "colab": {
          "base_uri": "https://localhost:8080/",
          "height": 33
        },
        "outputId": "0ccb17ce-a601-41b7-f1b7-4313280df8f7"
      },
      "source": [
        "#get the % of neutral tweet\n",
        "ztweets=df[df.Analysis=='Neutral']\n",
        "ztweets=ztweets['Tweets']\n",
        "z=round((ztweets.shape[0]/df.shape[0])*100,1)\n",
        "z"
      ],
      "execution_count": null,
      "outputs": [
        {
          "output_type": "execute_result",
          "data": {
            "text/plain": [
              "64.0"
            ]
          },
          "metadata": {
            "tags": []
          },
          "execution_count": 16
        }
      ]
    },
    {
      "cell_type": "code",
      "metadata": {
        "id": "FrQxDr82c_Ip",
        "colab_type": "code",
        "colab": {
          "base_uri": "https://localhost:8080/",
          "height": 331
        },
        "outputId": "5ed6f8e2-2d9b-404b-9d89-a689efa2b230"
      },
      "source": [
        "#show the value counts\n",
        "df['Analysis'].value_counts()\n",
        "\n",
        "plt.title('Sentiment Analysis for Narendra Modi')\n",
        "plt.xlabel('Sentiments')\n",
        "plt.ylabel('Counts')\n",
        "df['Analysis'].value_counts().plot(kind='bar')\n",
        "plt.show()"
      ],
      "execution_count": null,
      "outputs": [
        {
          "output_type": "display_data",
          "data": {
            "image/png": "[encoded data removed]",
            "text/plain": [
              "<Figure size 432x288 with 1 Axes>"
            ]
          },
          "metadata": {
            "tags": [],
            "needs_background": "light"
          }
        }
      ]
    },
    {
      "cell_type": "code",
      "metadata": {
        "id": "3Dvgm3AhipJs",
        "colab_type": "code",
        "colab": {
          "base_uri": "https://localhost:8080/",
          "height": 441
        },
        "outputId": "306a136b-e0ae-4019-8c99-a061ed72ef83"
      },
      "source": [
        "plt.figure(figsize=(8,6))\n",
        "\n",
        "Labels= ['Positive ['+str(p)+'%]', 'Neutral ['+str(z)+'%]', 'Negative ['+str(n)+'%]']\n",
        "sizes= [p, z, n]\n",
        "colors= ['yellowgreen','purple','red']\n",
        "patches, texts=plt.pie(sizes, colors=colors,startangle=90)\n",
        "plt.legend(patches,Labels,loc=\"best\",)\n",
        "plt.title(\"How people are reacting on \" +searchTerms+ \" by analyzing \"+str(noOfTweet)+\" tweets\")\n",
        "plt.axis('equal')\n",
        "plt.tight_layout()  \n",
        "plt.show()"
      ],
      "execution_count": null,
      "outputs": [
        {
          "output_type": "display_data",
          "data": {
            "image/png": "[encoded data removed]",
            "text/plain": [
              "<Figure size 576x432 with 1 Axes>"
            ]
          },
          "metadata": {
            "tags": []
          }
        }
      ]
    },
    {
      "cell_type": "code",
      "metadata": {
        "id": "jOlNbejqnPyw",
        "colab_type": "code",
        "colab": {}
      },
      "source": [
        ""
      ],
      "execution_count": null,
      "outputs": []
    }
  ]
}